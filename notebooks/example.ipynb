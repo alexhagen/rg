{
 "cells": [
  {
   "cell_type": "code",
   "execution_count": 1,
   "id": "8dc2b0a2",
   "metadata": {},
   "outputs": [
    {
     "data": {
      "image/png": "[encoded data removed]",
      "text/plain": [
       "<Figure size 432x288 with 1 Axes>"
      ]
     },
     "metadata": {
      "needs_background": "light"
     },
     "output_type": "display_data"
    },
    {
     "data": {
      "text/plain": [
       "<rg.RG at 0x7fe1a506ee50>"
      ]
     },
     "execution_count": 1,
     "metadata": {},
     "output_type": "execute_result"
    }
   ],
   "source": [
    "import rg\n",
    "\n",
    "project = rg.RG('research_tracking')\n",
    "\n",
    "project.add_branch('research_tracking', 'Finding the best way to track a projects progress')\n",
    "\n",
    "project.add_branch('notebook', 'Using a notebook is super flexible', 'research_tracking')\n",
    "\n",
    "project.add_branch('graph', 'Using a graph can visualize the research paths', 'research_tracking')\n",
    "\n",
    "project.plot()"
   ]
  },
  {
   "cell_type": "code",
   "execution_count": null,
   "id": "c565893e",
   "metadata": {},
   "outputs": [],
   "source": []
  }
 ],
 "metadata": {
  "kernelspec": {
   "display_name": "rg",
   "language": "python",
   "name": "rg"
  },
  "language_info": {
   "codemirror_mode": {
    "name": "ipython",
    "version": 3
   },
   "file_extension": ".py",
   "mimetype": "text/x-python",
   "name": "python",
   "nbconvert_exporter": "python",
   "pygments_lexer": "ipython3",
   "version": "3.8.5"
  }
 },
 "nbformat": 4,
 "nbformat_minor": 5
}
